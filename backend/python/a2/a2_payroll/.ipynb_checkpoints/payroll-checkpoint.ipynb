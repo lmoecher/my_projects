{
 "cells": [
  {
   "cell_type": "code",
   "execution_count": 1,
   "id": "7233d28d",
   "metadata": {},
   "outputs": [],
   "source": [
    "def get_requirements():\n",
    "    print(\"Developer: Logan Moecher\")\n",
    "    print(\"Payroll Calculator\")\n",
    "    print(\"\\nProgram Requirements:\\n\"\n",
    "        + \"1. Must use float data type for user input.\\n\"\n",
    "        + \"2. Overtime rate: 1.5 times hourly rate (hours over 40).\\n\"\n",
    "        + \"3. Holiday rate: 2.0 times hourly rate (all holiday hours).\\n\"\n",
    "        + \"4. Must format currency with dollar sign, and round to two decimal places.\\n\"\n",
    "        + \"5. Create at least three functions that are called by the program:\\n\"\n",
    "        + \"\\ta. main(): calls at least two other functions.\\n\"\n",
    "        + \"\\tb. get_requirements(): displays the program requirements.\\n\"\n",
    "        + \"\\tc. calculate_payroll(): calculates an individual one-week paychack.\\n\")"
   ]
  },
  {
   "cell_type": "code",
   "execution_count": 2,
   "id": "21f18d4c",
   "metadata": {},
   "outputs": [],
   "source": [
    "def calculate_payroll():\n",
    "    # conctant to rep base hours, overtime and holiday rates\n",
    "    # Note: python doesn't provide true constants\n",
    "    BASE_HOURS = 40     # base hours\n",
    "    OT_RATE = 1.5       # overtime rate\n",
    "    HOLIDAY_RATE = 2.0\n",
    "\n",
    "    #IPO: Input > Process > Output\n",
    "    # get user data\n",
    "    print(\"Input: \")\n",
    "    # get hours worked and hourly pay rate\n",
    "    hours = float(input('Enter hours worked: '))\n",
    "    holiday_hours = float(input('Enter holiday hours: '))\n",
    "    pay_rate = float(input('Enter hourly pay rate: '))\n",
    "\n",
    "    # Process:\n",
    "    # calculations\n",
    "    base_pay = BASE_HOURS * pay_rate\n",
    "    overtime_hours = hours  - BASE_HOURS\n",
    "\n",
    "    # calculate and display gross pay\n",
    "    if hours > BASE_HOURS:\n",
    "        # calculate gross pay with overtime\n",
    "\n",
    "        # calculate overtime pay\n",
    "        overtime_pay = overtime_hours * pay_rate * OT_RATE\n",
    "\n",
    "        # calculate holiday pay\n",
    "        holiday_pay = holiday_hours * pay_rate * HOLIDAY_RATE\n",
    "\n",
    "        # calculate gross pay\n",
    "        gross_pay = BASE_HOURS * pay_rate + overtime_pay + holiday_pay\n",
    "        print_pay(base_pay, overtime_pay, holiday_pay, gross_pay)\n",
    "    else:\n",
    "        # calculate gross pay without overtime, but include holiday pay\n",
    "        overtime_pay = 0\n",
    "        holiday_pay = holiday_hours * pay_rate * HOLIDAY_RATE\n",
    "        gross_pay = hours * pay_rate + holiday_pay\n",
    "\n",
    "        # display pay\n",
    "        print_pay(base_pay, overtime_pay, holiday_pay, gross_pay)\n",
    "        # https://docs.python.org/3.0/tutorial/inputoutput.html\n",
    "\n",
    "        '''\n",
    "        alignment specifiers:\n",
    "        '<' Forces field to be left-aligned within available space (default for most objects).\n",
    "\n",
    "        '>' Forces field to be right-aligned within available space (default for numbers).\n",
    "\n",
    "        '=' Forces padding to be placed after sign (if any) but before digits\n",
    "        Used for printing fields: '+000000120'. Alignment option only valid for numeric types.\n",
    "\n",
    "        '^' Forces field to be centered within available space\n",
    "        '''\n",
    "\n",
    "        # two steps:\n",
    "        # 1) right-align with spaces\n",
    "        # 2) currency symbol, with thousand seperator, and decimal places\n",
    "        # print(\"\\nBase: {:>15\".format('${:,.2f}'.format(base_pay)))\n",
    "\n",
    "        # Passing integer after ':' causes fields to be minum number of characters wide\n",
    "\n",
    "        # for x in range (1,11):\n",
    "        #   print('{0:2d} {1:3d} {2:4d}'.format(x, x * x, x * x * x))\n",
    "\n",
    "        print() # create blank line. DON'T use \\n on first print will misalign first column\n",
    "        # # fill character (*)\n",
    "        # print(\"{0:*10} ${1:,.2f}\".format('BASE:', base_pay) \n",
    "\n",
    "    # Output:"
   ]
  },
  {
   "cell_type": "code",
   "execution_count": 3,
   "id": "b5fd21f6",
   "metadata": {},
   "outputs": [],
   "source": [
    "def print_pay(base_pay, overtime_pay, holiday_pay, gross_pay):\n",
    "    print(\"\\nOutput:\")\n",
    "    print(\"{0:<10} ${1:,.2f}\".format('Base:', base_pay))\n",
    "    print(\"{0:<10} ${1:,.2f}\".format('Overtime:', overtime_pay))\n",
    "    print(\"{0:<10} ${1:,.2f}\".format('Holiday:', holiday_pay))\n",
    "    print(\"{0:<10} ${1:,.2f}\".format('Gross:', gross_pay)) "
   ]
  },
  {
   "cell_type": "code",
   "execution_count": 4,
   "id": "b6951cd5",
   "metadata": {},
   "outputs": [
    {
     "name": "stdout",
     "output_type": "stream",
     "text": [
      "Developer: Logan Moecher\n",
      "Payroll Calculator\n",
      "\n",
      "Program Requirements:\n",
      "1. Must use float data type for user input.\n",
      "2. Overtime rate: 1.5 times hourly rate (hours over 40).\n",
      "3. Holiday rate: 2.0 times hourly rate (all holiday hours).\n",
      "4. Must format currency with dollar sign, and round to two decimal places.\n",
      "5. Create at least three functions that are called by the program:\n",
      "\ta. main(): calls at least two other functions.\n",
      "\tb. get_requirements(): displays the program requirements.\n",
      "\tc. calculate_payroll(): calculates an individual one-week paychack.\n",
      "\n",
      "Input: \n",
      "Enter hours worked: 40\n",
      "Enter holiday hours: 10\n",
      "Enter hourly pay rate: 10\n",
      "\n",
      "Output:\n",
      "Base:      $400.00\n",
      "Overtime:  $0.00\n",
      "Holiday:   $200.00\n",
      "Gross:     $600.00\n",
      "\n"
     ]
    }
   ],
   "source": [
    "import functions as f\n",
    "\n",
    "def main():\n",
    "    f.get_requirements()\n",
    "    f.calculate_payroll()\n",
    "\n",
    "if __name__ == \"__main__\":\n",
    "    main()"
   ]
  },
  {
   "cell_type": "code",
   "execution_count": 5,
   "id": "8168599a",
   "metadata": {},
   "outputs": [
    {
     "name": "stdout",
     "output_type": "stream",
     "text": [
      "Developer: Logan Moecher\n",
      "Payroll Calculator\n",
      "\n",
      "Program Requirements:\n",
      "1. Must use float data type for user input.\n",
      "2. Overtime rate: 1.5 times hourly rate (hours over 40).\n",
      "3. Holiday rate: 2.0 times hourly rate (all holiday hours).\n",
      "4. Must format currency with dollar sign, and round to two decimal places.\n",
      "5. Create at least three functions that are called by the program:\n",
      "\ta. main(): calls at least two other functions.\n",
      "\tb. get_requirements(): displays the program requirements.\n",
      "\tc. calculate_payroll(): calculates an individual one-week paychack.\n",
      "\n",
      "Input: \n",
      "Enter hours worked: 50\n",
      "Enter holiday hours: 10\n",
      "Enter hourly pay rate: 10\n",
      "\n",
      "Output:\n",
      "Base:      $400.00\n",
      "Overtime:  $150.00\n",
      "Holiday:   $200.00\n",
      "Gross:     $750.00\n"
     ]
    }
   ],
   "source": [
    "if __name__ == \"__main__\":\n",
    "    main()"
   ]
  }
 ],
 "metadata": {
  "kernelspec": {
   "display_name": "Python 3 (ipykernel)",
   "language": "python",
   "name": "python3"
  },
  "language_info": {
   "codemirror_mode": {
    "name": "ipython",
    "version": 3
   },
   "file_extension": ".py",
   "mimetype": "text/x-python",
   "name": "python",
   "nbconvert_exporter": "python",
   "pygments_lexer": "ipython3",
   "version": "3.9.12"
  }
 },
 "nbformat": 4,
 "nbformat_minor": 5
}
