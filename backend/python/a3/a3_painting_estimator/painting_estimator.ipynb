{
 "cells": [
  {
   "cell_type": "code",
   "execution_count": 1,
   "id": "d81a971d",
   "metadata": {
    "scrolled": true
   },
   "outputs": [
    {
     "name": "stdout",
     "output_type": "stream",
     "text": [
      "Developer: Logan Moecher\n",
      "Painting Estimator\n",
      "\n",
      "Program Requirements:\n",
      "1. Calculate home interior paint cost (w/o primer).\n",
      "2. Must use float data types.\n",
      "3. Must use SQFT_PER_GALLON constant (350).\n",
      "4. Must use iteration structure (aka loop).\n",
      "5. Format. right align numbers, and round to two decimal places.\n",
      "6. Create at least five functions that are called by the program:\n",
      "\ta. main(): calls two other functions: get_requirements() and estimate_painting_cost()\n",
      "\tb. get_requirements(): displays the program requirements.\n",
      "\tc. estimate_painting_cost(): calculates interior home painting, and print functions.\n",
      "\td. print_painting_estimate(): displays painting costs.\n",
      "\te. print_painting_percentage(): displays painting costs percentages.\n",
      "\n"
     ]
    }
   ],
   "source": [
    "def get_requirements():\n",
    "    print()\n",
    "print(\"Developer: Logan Moecher\")\n",
    "print(\"Painting Estimator\")\n",
    "print(\"\\nProgram Requirements:\\n\"\n",
    "        + \"1. Calculate home interior paint cost (w/o primer).\\n\"\n",
    "        + \"2. Must use float data types.\\n\"\n",
    "        + \"3. Must use SQFT_PER_GALLON constant (350).\\n\"\n",
    "        + \"4. Must use iteration structure (aka loop).\\n\"\n",
    "        + \"5. Format. right align numbers, and round to two decimal places.\\n\"\n",
    "        + \"6. Create at least five functions that are called by the program:\\n\"\n",
    "            + \"\\ta. main(): calls two other functions: get_requirements() and estimate_painting_cost()\\n\"\n",
    "            + \"\\tb. get_requirements(): displays the program requirements.\\n\"\n",
    "            + \"\\tc. estimate_painting_cost(): calculates interior home painting, and print functions.\\n\"\n",
    "            + \"\\td. print_painting_estimate(): displays painting costs.\\n\"\n",
    "            + \"\\te. print_painting_percentage(): displays painting costs percentages.\\n\")"
   ]
  },
  {
   "cell_type": "code",
   "execution_count": 2,
   "id": "005ab6b2",
   "metadata": {},
   "outputs": [],
   "source": [
    "SQFT_PER_GALLON = 350.00"
   ]
  },
  {
   "cell_type": "code",
   "execution_count": 3,
   "id": "0ddc90a1",
   "metadata": {},
   "outputs": [],
   "source": [
    "def estimate_painting_cost(inter, ppg, sq_rate):\n",
    "    number_of_gallons = inter / SQFT_PER_GALLON\n",
    "    paint_cost = number_of_gallons * ppg\n",
    "    tot_labor = sq_rate * inter\n",
    "    total_fee = tot_labor + paint_cost\n",
    "    \n",
    "    return number_of_gallons, paint_cost, tot_labor, total_fee"
   ]
  },
  {
   "cell_type": "code",
   "execution_count": 4,
   "id": "ef24bb6d",
   "metadata": {},
   "outputs": [],
   "source": [
    "def print_painting_estimate(a, b, e):\n",
    "    print('Number of gallons:{0:>13,.2f}'.format(a))\n",
    "    print('Paint per gallon:{0:>5}{1:>9,.2f}'.format('$',e))\n",
    "    print('Labor per Sqft:{0:>7}{1:>9,.2f}'.format('$',b))"
   ]
  },
  {
   "cell_type": "code",
   "execution_count": 5,
   "id": "090b2869",
   "metadata": {},
   "outputs": [],
   "source": [
    "def print_painting_percentage(pc, labor, total):\n",
    "    paint_percent = pc / total\n",
    "    labor_percent = labor / total\n",
    "    total_percent = total / total\n",
    "    print('Cost\\t\\tAmount\\t\\tPercentage')\n",
    "    print('Paint:\\t${0:>15,.2f}{1:>15.2%}'.format(pc, paint_percent))\n",
    "    print('Labor:\\t${0:>15,.2f}{1:>15.2%}'.format(labor, labor_percent))\n",
    "    print('Total:\\t${0:>15,.2f}{1:>15.2%}'.format(total, total_percent))"
   ]
  },
  {
   "cell_type": "code",
   "execution_count": 6,
   "id": "e03d98fc",
   "metadata": {},
   "outputs": [],
   "source": [
    "def main():\n",
    "    repeat = 'y'\n",
    "    while repeat.lower() =='y':\n",
    "        print(\"Input: \")\n",
    "        total_interior = float(input('Enter total interior sq ft: '))\n",
    "        ppg_paint = float(input('Enter price per gallon of paint: '))\n",
    "        paint_hr_rate = float(input('Enter hourly painting rate per sq ft: '))\n",
    "        print()\n",
    "\n",
    "        if repeat.lower() == 'y':\n",
    "            n, p, tl, tt = estimate_painting_cost(total_interior, ppg_paint, paint_hr_rate)\n",
    "            print(\"Output: \")\n",
    "            print('Item\\t\\t\\tAmount')\n",
    "            print('Total Sqft:{0:>20,.2f}'.format(total_interior))\n",
    "            print('Sqft per Gallon:{0:>15,.2f}'.format(SQFT_PER_GALLON))\n",
    "            print_painting_estimate(n, paint_hr_rate, ppg_paint)\n",
    "            print()\n",
    "            print_painting_percentage(p, tl, tt)\n",
    "            repeat = input('would you like to repeat (y/n): ')\n",
    "            print()\n",
    "        else:\n",
    "            break\n",
    "    print(\"Thank you for using our Painting Estimator!\")"
   ]
  },
  {
   "cell_type": "code",
   "execution_count": 7,
   "id": "3f82dbe0",
   "metadata": {},
   "outputs": [],
   "source": [
    "if __name__ == \"__main__\":\n",
    "    pass"
   ]
  },
  {
   "cell_type": "code",
   "execution_count": 8,
   "id": "b659e305",
   "metadata": {},
   "outputs": [
    {
     "name": "stdout",
     "output_type": "stream",
     "text": [
      "Developer: Logan Moecher\n",
      "Painting Estimator\n",
      "\n",
      "Program Requirements:\n",
      "1. Calculate home interior paint cost (w/o primer).\n",
      "2. Must use float data types.\n",
      "3. Must use SQFT_PER_GALLON constant (350).\n",
      "4. Must use iteration structure (aka loop).\n",
      "5. Format. right align numbers, and round to two decimal places.\n",
      "6. Create at least five functions that are called by the program:\n",
      "\ta. main(): calls two other functions: get_requirements() and estimate_painting_cost()\n",
      "\tb. get_requirements(): displays the program requirements.\n",
      "\tc. estimate_painting_cost(): calculates interior home painting, and print functions.\n",
      "\td. print_painting_estimate(): displays painting costs.\n",
      "\te. print_painting_percentage(): displays painting costs percentages.\n",
      "\n",
      "Input: \n",
      "Enter total interior sq ft: 2500\n",
      "Enter price per gallon of paint: 30\n",
      "Enter hourly painting rate per sq ft: 2\n",
      "\n",
      "Output: \n",
      "Item\t\t\tAmount\n",
      "Total Sqft:            2,500.00\n",
      "Sqft per Gallon:         350.00\n",
      "Number of gallons:         7.14\n",
      "Paint per gallon:    $    30.00\n",
      "Labor per Sqft:      $     2.00\n",
      "\n",
      "Cost\t\tAmount\t\tPercentage\n",
      "Paint:\t$         214.29          4.11%\n",
      "Labor:\t$       5,000.00         95.89%\n",
      "Total:\t$       5,214.29        100.00%\n",
      "would you like to repeat (y/n): y\n",
      "\n",
      "Input: \n",
      "Enter total interior sq ft: 3000\n",
      "Enter price per gallon of paint: 40\n",
      "Enter hourly painting rate per sq ft: 2\n",
      "\n",
      "Output: \n",
      "Item\t\t\tAmount\n",
      "Total Sqft:            3,000.00\n",
      "Sqft per Gallon:         350.00\n",
      "Number of gallons:         8.57\n",
      "Paint per gallon:    $    40.00\n",
      "Labor per Sqft:      $     2.00\n",
      "\n",
      "Cost\t\tAmount\t\tPercentage\n",
      "Paint:\t$         342.86          5.41%\n",
      "Labor:\t$       6,000.00         94.59%\n",
      "Total:\t$       6,342.86        100.00%\n",
      "would you like to repeat (y/n): n\n",
      "\n",
      "Thank you for using our Painting Estimator!\n"
     ]
    }
   ],
   "source": [
    "import functions as a3\n",
    "\n",
    "a3.get_requirements\n",
    "\n",
    "a3.main()"
   ]
  }
 ],
 "metadata": {
  "kernelspec": {
   "display_name": "Python 3 (ipykernel)",
   "language": "python",
   "name": "python3"
  },
  "language_info": {
   "codemirror_mode": {
    "name": "ipython",
    "version": 3
   },
   "file_extension": ".py",
   "mimetype": "text/x-python",
   "name": "python",
   "nbconvert_exporter": "python",
   "pygments_lexer": "ipython3",
   "version": "3.9.12"
  }
 },
 "nbformat": 4,
 "nbformat_minor": 5
}
