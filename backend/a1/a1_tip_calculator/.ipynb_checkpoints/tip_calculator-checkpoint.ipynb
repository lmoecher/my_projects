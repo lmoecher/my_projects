{
 "cells": [
  {
   "cell_type": "markdown",
   "id": "9696544a",
   "metadata": {},
   "source": [
    "### Tip Calculator\n",
    "\n",
    "**Developer:** Logan Moecher\n",
    "\n",
    "**Course:** LIS4369\n",
    "\n",
    "**Semester:** Fall 2022\n",
    "\n",
    "**Program requirments**\n",
    "\n",
    "    1. Must use float data type for user input except, \"Party Number\"\n",
    "    2. Must round calculations to two decimal places.\n",
    "    3. Must format currency with dollar sign, and teo decimal places.\n"
   ]
  },
  {
   "cell_type": "code",
   "execution_count": 1,
   "id": "fd2709d4",
   "metadata": {},
   "outputs": [
    {
     "name": "stdout",
     "output_type": "stream",
     "text": [
      "\n",
      "User Input:\n",
      "Cost of meal: 1000\n",
      "Tax percent: 10\n",
      "Tip percent: 10\n",
      "Party number: 4\n"
     ]
    }
   ],
   "source": [
    "print(\"\\nUser Input:\")\n",
    "meal_cost = float(input(\"Cost of meal: \"))\n",
    "tax_percent = float(input(\"Tax percent: \"))\n",
    "tip_percent = float(input(\"Tip percent: \"))\n",
    "people_num = int(input(\"Party number: \"))"
   ]
  },
  {
   "cell_type": "code",
   "execution_count": 2,
   "id": "c0cbf3c3",
   "metadata": {},
   "outputs": [],
   "source": [
    "# calculate the tax, tip and total amount\n",
    "tax_amount = round(meal_cost * (tax_percent / 100), 2) # convert to percentage\n",
    "due_amount = round(meal_cost + tax_amount, 2)\n",
    "tip_amount = round((due_amount) * (tip_percent / 100), 2) # percentage of cost + tax\n",
    "total = round(meal_cost + tax_amount + tip_amount, 2)\n",
    "split = round(total / people_num, 2)"
   ]
  },
  {
   "cell_type": "code",
   "execution_count": 3,
   "id": "00e801f9",
   "metadata": {},
   "outputs": [
    {
     "name": "stdout",
     "output_type": "stream",
     "text": [
      "\n",
      "Program Output\n",
      "Subtotal:\t $1,000.00\n",
      "Tax:\t\t $100.00\n",
      "Amount Due:\t $1,100.00\n",
      "Gratuity:\t $110.00\n",
      "Total:\t\t $1,210.00\n",
      "Split (4):\t $302.50\n"
     ]
    }
   ],
   "source": [
    "# display results\n",
    "# formatting: \n",
    "# New!: https://realpython.com/python-f-strings/\n",
    "# https://docs.python.org/3/library/string.html#format-specification-mini-language\n",
    "# https://docs.python.org/3/library/string.html#formatexamples\n",
    "# https://mkaz.blog/code/python-string-format-cookbook/\n",
    "# Old style: https://docs.python.org/3/library/stdtypes.html#string-formatting\n",
    "print(\"\\nProgram Output\")\n",
    "print(\"Subtotal:\\t\", \"${0:,.2f}\".format(meal_cost)) #subtotal\n",
    "print(\"Tax:\\t\\t\", \"${0:,.2f}\".format(tax_amount))\n",
    "print(\"Amount Due:\\t\", \"${0:,.2f}\".format(due_amount))\n",
    "print(\"Gratuity:\\t\", \"${0:,.2f}\".format(tip_amount))\n",
    "print(\"Total:\\t\\t\", \"${0:,.2f}\".format(total))\n",
    "print(\"Split \" + \"(\" + str(people_num) + \"):\\t\", \"${0:,.2f}\".format(split))"
   ]
  }
 ],
 "metadata": {
  "kernelspec": {
   "display_name": "Python 3 (ipykernel)",
   "language": "python",
   "name": "python3"
  },
  "language_info": {
   "codemirror_mode": {
    "name": "ipython",
    "version": 3
   },
   "file_extension": ".py",
   "mimetype": "text/x-python",
   "name": "python",
   "nbconvert_exporter": "python",
   "pygments_lexer": "ipython3",
   "version": "3.9.12"
  }
 },
 "nbformat": 4,
 "nbformat_minor": 5
}
